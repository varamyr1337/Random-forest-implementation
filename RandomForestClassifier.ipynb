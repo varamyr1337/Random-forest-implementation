{
 "cells": [
  {
   "cell_type": "markdown",
   "metadata": {},
   "source": [
    "# Random forest classifier - Code"
   ]
  },
  {
   "cell_type": "code",
   "execution_count": 1,
   "metadata": {},
   "outputs": [],
   "source": [
    "import numpy as np\n",
    "from collections import Counter"
   ]
  },
  {
   "cell_type": "code",
   "execution_count": 2,
   "metadata": {},
   "outputs": [],
   "source": [
    "class GiniIndex:\n",
    "    def getClasses(self, group):\n",
    "        return set(group[:,-1])\n",
    "    \n",
    "    def getProportion(self, group, classValue):\n",
    "        return (group[:,-1] == classValue).sum() / len(group)\n",
    "    \n",
    "    def getScore(self, group):\n",
    "        score = 0.0\n",
    "        classes = self.getClasses(group)\n",
    "        for classValue in classes:\n",
    "            proportion = self.getProportion(group, classValue)\n",
    "            score += proportion * proportion\n",
    "        return score\n",
    "        \n",
    "    def giniIndexOfGroup(self, group, samplesCount):\n",
    "        if len(group) == 0:\n",
    "            return 0\n",
    "        score = self.getScore(group)\n",
    "        giniIndexValue = (1.0 - score) * (len(group) / samplesCount)\n",
    "        return giniIndexValue\n",
    "        \n",
    "    def calculate(self, leftGroup, rightGroup):\n",
    "        samplesCount = len(leftGroup) + len(rightGroup)\n",
    "        giniIndexValue = self.giniIndexOfGroup(leftGroup, samplesCount)\n",
    "        giniIndexValue += self.giniIndexOfGroup(rightGroup, samplesCount)\n",
    "        return giniIndexValue"
   ]
  },
  {
   "cell_type": "code",
   "execution_count": 3,
   "metadata": {},
   "outputs": [],
   "source": [
    "class Node:\n",
    "    def __init__(self):\n",
    "        self.featureIndex = None\n",
    "        self.treshold = None\n",
    "        self.giniIndexValue = None\n",
    "        self.isLeaf = False\n",
    "        self.outcome = None\n",
    "        self.leftChild = None\n",
    "        self.rightChild = None\n",
    "        self.leftGroup = None\n",
    "        self.rightGroup = None\n",
    "        \n",
    "    def update(self, featureIndex, treshold, giniIndexValue, leftGroup, rightGroup):\n",
    "        self.featureIndex = featureIndex\n",
    "        self.treshold = treshold\n",
    "        self.giniIndexValue = giniIndexValue\n",
    "        self.leftGroup = leftGroup\n",
    "        self.rightGroup = rightGroup\n",
    "        \n",
    "class DecisionTreeClassifier:\n",
    "    def __init__(self, maxDepth=100, minSplitSize=2, bootstrap=False, maxFeatures=\"None\"):\n",
    "        self.rootNode = Node()\n",
    "        self.maxDepth = maxDepth\n",
    "        self.minSplitSize = minSplitSize\n",
    "        self.bootstrap = bootstrap\n",
    "        self.maxFeatures = maxFeatures\n",
    "        self.randomFeatureIndices = None\n",
    "        \n",
    "    def splitDataset(self, dataset, featureIndex, treshold):\n",
    "        leftGroup = dataset[dataset[:,featureIndex] < treshold]\n",
    "        rightGroup = dataset[dataset[:,featureIndex] >= treshold]\n",
    "        return leftGroup, rightGroup \n",
    "        \n",
    "    def findBestSplit(self, dataset, node):\n",
    "        leftGroup, rightGroup = None, None\n",
    "        node.giniIndexValue = 9999999\n",
    "\n",
    "        for featureIndex in range(len(dataset[0])-1):\n",
    "            for row in dataset:\n",
    "                treshold = row[featureIndex]\n",
    "                leftGroup, rightGroup = self.splitDataset(dataset, featureIndex, treshold)\n",
    "                giniIndexValue = GiniIndex().calculate(leftGroup, rightGroup)\n",
    "                if giniIndexValue < node.giniIndexValue:\n",
    "                    node.update(featureIndex, treshold, giniIndexValue, leftGroup, rightGroup)\n",
    "                    \n",
    "    def makeLeafNode(self, node):\n",
    "        dataset = None\n",
    "        if len(node.leftGroup) == 0:\n",
    "            dataset = node.rightGroup\n",
    "        elif len(node.rightGroup) == 0:\n",
    "            dataset = node.leftGroup\n",
    "        else:\n",
    "            dataset = np.concatenate((node.leftGroup, node.rightGroup))\n",
    "        node.outcome = Counter(dataset[:,-1]).most_common(1)[0][0]\n",
    "        node.isLeaf = True\n",
    "        \n",
    "    def processNoSplit(self, node):\n",
    "        if len(node.leftGroup) == 0 or len(node.rightGroup) == 0:\n",
    "            self.makeLeafNode(node)\n",
    "            return True\n",
    "        return False\n",
    "    \n",
    "    def processMaxDepth(self, node, depth):\n",
    "        if depth >= self.maxDepth:\n",
    "            self.makeLeafNode(node)\n",
    "            return True\n",
    "        return False\n",
    "    \n",
    "    def processChild(self, node, group, depth):\n",
    "        if len(group) < self.minSplitSize:\n",
    "            node.leftGroup, node.rightGroup = group, np.array([])\n",
    "            self.makeLeafNode(node)\n",
    "        else:\n",
    "            self.findBestSplit(group, node)\n",
    "            self.recursiveSplit(node, depth+1)\n",
    "            \n",
    "    def recursiveSplit(self, node, depth):\n",
    "        if self.processNoSplit(node):\n",
    "            return\n",
    "        if self.processMaxDepth(node, depth):\n",
    "            return\n",
    "        \n",
    "        node.leftChild, node.rightChild = Node(), Node()\n",
    "        self.processChild(node.leftChild, node.leftGroup, depth)\n",
    "        self.processChild(node.rightChild, node.rightGroup, depth)\n",
    "        \n",
    "    def bootstrapSamples(self, data, target):\n",
    "        indices = np.random.randint(0,data.shape[0], data.shape[0])\n",
    "        return data[indices], target[indices]\n",
    "        \n",
    "    def selectRandomFeatures(self, data):\n",
    "        featureIndices = [i for i in range(X_train.shape[1])]\n",
    "        featuresCount = int(round(np.sqrt(X_train.shape[1])))\n",
    "        self.randomFeatureIndices = np.random.choice(featureIndices, featuresCount)\n",
    "        return data[:,self.randomFeatureIndices]\n",
    "        \n",
    "    def drawDataset(self, data, target):\n",
    "        if self.maxFeatures == \"sqrt\":\n",
    "            data = self.selectRandomFeatures(data)\n",
    "        if self.bootstrap:\n",
    "            data, target = self.bootstrapSamples(data, target)\n",
    "        return data, target\n",
    "    \n",
    "    def fit(self, data, target):\n",
    "        data, target = self.drawDataset(data, target)\n",
    "        dataset = np.append(data,np.swapaxes([target],0,1), axis=1)\n",
    "        self.findBestSplit(dataset, self.rootNode)\n",
    "        self.recursiveSplit(self.rootNode, 1)\n",
    "    \n",
    "    def predictRow(self, row, node):\n",
    "        if node.isLeaf:\n",
    "            return node.outcome\n",
    "        else:\n",
    "            if row[node.featureIndex] < node.treshold:\n",
    "                return self.predictRow(row, node.leftChild)\n",
    "            else:\n",
    "                return self.predictRow(row, node.rightChild)\n",
    "    \n",
    "    def accuracyScore(self, predictions, trueValues):\n",
    "        return sum(predictions == trueValues) / len(predictions)\n",
    "        \n",
    "    def predict(self, data, target):\n",
    "        dataset = np.append(data,np.swapaxes([target],0,1), axis=1)\n",
    "        if self.maxFeatures != \"None\":\n",
    "            dataset = dataset[:,self.randomFeatureIndices]\n",
    "        predictions = []\n",
    "        for row in dataset:\n",
    "            predictions.append(self.predictRow(row, self.rootNode))\n",
    "        return np.array(predictions)"
   ]
  },
  {
   "cell_type": "code",
   "execution_count": 4,
   "metadata": {},
   "outputs": [],
   "source": [
    "class RandomForestClassifier:\n",
    "    def __init__(self, nTrees=30, maxDepth=100, minSplitSize=50):\n",
    "        self.nTrees = nTrees\n",
    "        self.maxDepth = 100\n",
    "        self.minSplitSize = 50\n",
    "        self.trees = list()\n",
    "        \n",
    "    \n",
    "    def trainDecisionTree(self, data, target):\n",
    "        decisionTree = DecisionTreeClassifier(maxDepth=self.maxDepth, \n",
    "                                              minSplitSize=self.minSplitSize,\n",
    "                                             bootstrap=True,\n",
    "                                             maxFeatures=\"sqrt\")\n",
    "        decisionTree.fit(data, target)\n",
    "        return decisionTree\n",
    "        \n",
    "    def fitTreesSequentially(self, data, target):\n",
    "        for i in range(self.nTrees):\n",
    "            tree = self.trainDecisionTree(data, target)\n",
    "            self.trees.append(tree)\n",
    "            \n",
    "    def fit(self, data, target):\n",
    "        self.fitTreesSequentially(data, target)\n",
    "        \n",
    "    def majorityVote(self, arr):\n",
    "        return Counter(arr).most_common(1)[0][0]  \n",
    "    \n",
    "    def averagePredictions(self, predictions):\n",
    "        return np.apply_along_axis(self.majorityVote, 0, predictions)\n",
    "    \n",
    "    def predictSequentially(self, data, target):\n",
    "        predictions = [] \n",
    "        for decisionTree in self.trees:\n",
    "            predictions.append(decisionTree.predict(data, target))\n",
    "        return self.averagePredictions(predictions)\n",
    "            \n",
    "    def predict(self, data, target):\n",
    "        predictions = self.predictSequentially(data, target)\n",
    "        print(DecisionTreeClassifier().accuracyScore(predictions, target))\n",
    "        return predictions"
   ]
  },
  {
   "cell_type": "markdown",
   "metadata": {},
   "source": [
    "# Unit tests"
   ]
  },
  {
   "cell_type": "code",
   "execution_count": 5,
   "metadata": {},
   "outputs": [],
   "source": [
    "import unittest\n",
    "\n",
    "class TestGiniIndex(unittest.TestCase):    \n",
    "    def setUp(self):\n",
    "        self.testGroup = np.array([[2, 1, 1], [3, -1, 0], [0, 0, 2], [0, 0, 2]])\n",
    "        \n",
    "    def testGetClasses(self):\n",
    "        classes = GiniIndex().getClasses(self.testGroup)\n",
    "        self.assertEqual({1, 0, 2}, classes, \"Should be {0, 1, 2}\")\n",
    "        \n",
    "    def testGetProportion(self):\n",
    "        proportion = GiniIndex().getProportion(self.testGroup, 1)\n",
    "        self.assertEqual(0.25, proportion, \"Should be 0.25\")\n",
    "        \n",
    "    def testGetScore(self):\n",
    "        score = GiniIndex().getScore(self.testGroup)\n",
    "        self.assertEqual(0.375, score, \"Should be 0.375\")\n",
    "        \n",
    "    def testGiniIndexOfGroup(self):\n",
    "        giniIndexValue = GiniIndex().giniIndexOfGroup(self.testGroup, 25)\n",
    "        self.assertEqual(0.1, giniIndexValue, \"Should be 0.1\")\n",
    "        \n",
    "    def testCalculate(self):\n",
    "        testGroupRight = np.array([[2, 1, 1], [3, -1, 0], [0, 0, 0], [0, 0, 0]])\n",
    "        giniIndexValue = GiniIndex().calculate(self.testGroup, testGroupRight)\n",
    "        self.assertEqual(0.5, giniIndexValue, \"Should be 0.5\")\n",
    "    \n",
    "class TestDecisionTreeClassifier(unittest.TestCase):\n",
    "    def setUp(self):\n",
    "        self.testDataset = np.array([[2, 1, 1], [3, -1, 0], [0, 0, 2], [0, 0, 2]])\n",
    "        \n",
    "    def testSplitDataset(self):\n",
    "        (leftGroup, rightGroup) = DecisionTreeClassifier().splitDataset(self.testDataset, 1, 0)\n",
    "        self.assertTrue(([[3, -1, 0]] == leftGroup).all(), \"Should be [3, -1, 0]\")\n",
    "        self.assertTrue(([[2, 1, 1], [0, 0, 2], [0, 0, 2]] == rightGroup).all(), \n",
    "                        \"Should be [[2, 1, 1], [0, 0, 2], [0, 0, 2]] \")\n",
    "        \n",
    "    def testFindBestSplit(self):\n",
    "        node = Node()\n",
    "        DecisionTreeClassifier().findBestSplit(self.testDataset, node)\n",
    "        \n",
    "        self.assertEqual(0, node.featureIndex, \"Should be 0\")\n",
    "        self.assertEqual(2, node.treshold, \"Should be 2\")\n",
    "    \n",
    "    def testMakeLeafNode(self):\n",
    "        node = Node()\n",
    "        node.leftGroup = np.array([[3, -1, 0]])\n",
    "        node.rightGroup = np.array([[2, 1, 1], [0, 0, 2], [0, 0, 2]])\n",
    "        DecisionTreeClassifier().makeLeafNode(node)\n",
    "        \n",
    "        self.assertEqual(2, node.outcome, \"Should be 2\")\n",
    "        \n",
    "    def testProcessNoSplit(self):\n",
    "        node = Node()\n",
    "        node.leftGroup = np.array([])\n",
    "        node.rightGroup = np.array([[2, 1, 1], [0, 0, 2], [0, 0, 2]])\n",
    "        \n",
    "        self.assertTrue(DecisionTreeClassifier().processNoSplit(node))\n",
    "        self.assertTrue(node.isLeaf)\n",
    "        \n",
    "    def testProcessMaxDepth(self):\n",
    "        node = Node()\n",
    "        node.leftGroup = np.array([[3, -1, 0]])\n",
    "        node.rightGroup = np.array([[2, 1, 1], [0, 0, 2], [0, 0, 2]])\n",
    "        actual = DecisionTreeClassifier(maxDepth=5).processMaxDepth(node, 5)\n",
    "        self.assertTrue(actual)\n",
    "        \n",
    "    def testProcessChild(self):\n",
    "        node = Node()\n",
    "        group = np.array([[2, 1, 0], [1, 5, 0], [-2, 0, 1], [-1, 4, 1]])\n",
    "        DecisionTreeClassifier().processChild(node, group, 1)\n",
    "        self.assertFalse(node.isLeaf)\n",
    "        "
   ]
  },
  {
   "cell_type": "code",
   "execution_count": 6,
   "metadata": {},
   "outputs": [
    {
     "name": "stderr",
     "output_type": "stream",
     "text": [
      "testFindBestSplit (__main__.TestDecisionTreeClassifier) ... ok\n",
      "testMakeLeafNode (__main__.TestDecisionTreeClassifier) ... ok\n",
      "testProcessChild (__main__.TestDecisionTreeClassifier) ... ok\n",
      "testProcessMaxDepth (__main__.TestDecisionTreeClassifier) ... ok\n",
      "testProcessNoSplit (__main__.TestDecisionTreeClassifier) ... ok\n",
      "testSplitDataset (__main__.TestDecisionTreeClassifier) ... ok\n",
      "testCalculate (__main__.TestGiniIndex) ... ok\n",
      "testGetClasses (__main__.TestGiniIndex) ... ok\n",
      "testGetProportion (__main__.TestGiniIndex) ... ok\n",
      "testGetScore (__main__.TestGiniIndex) ... ok\n",
      "testGiniIndexOfGroup (__main__.TestGiniIndex) ... ok\n",
      "\n",
      "----------------------------------------------------------------------\n",
      "Ran 11 tests in 0.025s\n",
      "\n",
      "OK\n"
     ]
    },
    {
     "data": {
      "text/plain": [
       "<unittest.main.TestProgram at 0x58fa978>"
      ]
     },
     "execution_count": 6,
     "metadata": {},
     "output_type": "execute_result"
    }
   ],
   "source": [
    "unittest.main(argv=[''], verbosity=2, exit=False)"
   ]
  },
  {
   "cell_type": "markdown",
   "metadata": {},
   "source": [
    "# Tests"
   ]
  },
  {
   "cell_type": "markdown",
   "metadata": {},
   "source": [
    "Loading libraries"
   ]
  },
  {
   "cell_type": "code",
   "execution_count": 7,
   "metadata": {},
   "outputs": [],
   "source": [
    "from sklearn import datasets, linear_model, ensemble\n",
    "from sklearn.model_selection import train_test_split"
   ]
  },
  {
   "cell_type": "markdown",
   "metadata": {},
   "source": [
    "## Iris dataset"
   ]
  },
  {
   "cell_type": "markdown",
   "metadata": {},
   "source": [
    "Load data"
   ]
  },
  {
   "cell_type": "code",
   "execution_count": 21,
   "metadata": {},
   "outputs": [],
   "source": [
    "X = datasets.load_iris()['data']\n",
    "y = datasets.load_iris()['target']\n"
   ]
  },
  {
   "cell_type": "code",
   "execution_count": 22,
   "metadata": {},
   "outputs": [
    {
     "name": "stdout",
     "output_type": "stream",
     "text": [
      "(150, 4)\n"
     ]
    },
    {
     "data": {
      "text/plain": [
       "{0, 1, 2}"
      ]
     },
     "execution_count": 22,
     "metadata": {},
     "output_type": "execute_result"
    }
   ],
   "source": [
    "print(X.shape)\n",
    "set(y)"
   ]
  },
  {
   "cell_type": "markdown",
   "metadata": {},
   "source": [
    "Train/test split"
   ]
  },
  {
   "cell_type": "code",
   "execution_count": 9,
   "metadata": {},
   "outputs": [],
   "source": [
    "X_train, X_test, y_train, y_test  = train_test_split(X, y, test_size=0.2)"
   ]
  },
  {
   "cell_type": "markdown",
   "metadata": {},
   "source": [
    "Traning classifier"
   ]
  },
  {
   "cell_type": "code",
   "execution_count": 10,
   "metadata": {},
   "outputs": [],
   "source": [
    "tree = RandomForestClassifier(nTrees=100, maxDepth=5, minSplitSize=50)\n",
    "tree.fit(X_train, y_train)"
   ]
  },
  {
   "cell_type": "markdown",
   "metadata": {},
   "source": [
    "Prediction and accuraccy"
   ]
  },
  {
   "cell_type": "code",
   "execution_count": 11,
   "metadata": {},
   "outputs": [
    {
     "name": "stdout",
     "output_type": "stream",
     "text": [
      "Train accuracy: \n",
      "0.9833333333333333\n",
      "Test accuracy: \n",
      "0.9\n"
     ]
    }
   ],
   "source": [
    "print('Train accuracy: ')\n",
    "p = tree.predict(X_train, y_train)\n",
    "print('Test accuracy: ')\n",
    "p = tree.predict(X_test, y_test)"
   ]
  },
  {
   "cell_type": "markdown",
   "metadata": {},
   "source": [
    "Comparison with scikit-learn random forest classifier"
   ]
  },
  {
   "cell_type": "code",
   "execution_count": 12,
   "metadata": {},
   "outputs": [
    {
     "name": "stdout",
     "output_type": "stream",
     "text": [
      "Train accuracy: 0.975\n",
      "Test accuracy: 0.9\n"
     ]
    }
   ],
   "source": [
    "cfl = ensemble.RandomForestClassifier(n_estimators=100,max_depth=5, min_samples_split=50)\n",
    "cfl.fit(X_train, y_train)\n",
    "print('Train accuracy: ' + str(sum(cfl.predict(X_train) == y_train) / len(X_train)))\n",
    "print('Test accuracy: ' + str(sum(cfl.predict(X_test) == y_test) / len(X_test)))"
   ]
  },
  {
   "cell_type": "markdown",
   "metadata": {},
   "source": [
    "# Digits dataset"
   ]
  },
  {
   "cell_type": "markdown",
   "metadata": {},
   "source": [
    "Load data"
   ]
  },
  {
   "cell_type": "code",
   "execution_count": 24,
   "metadata": {},
   "outputs": [
    {
     "data": {
      "text/plain": [
       "(1797, 64)"
      ]
     },
     "execution_count": 24,
     "metadata": {},
     "output_type": "execute_result"
    }
   ],
   "source": [
    "X = datasets.load_digits()['data']\n",
    "y = datasets.load_digits()['target']\n",
    "X.shape"
   ]
  },
  {
   "cell_type": "markdown",
   "metadata": {},
   "source": [
    "Train/test split"
   ]
  },
  {
   "cell_type": "code",
   "execution_count": 16,
   "metadata": {},
   "outputs": [
    {
     "data": {
      "text/plain": [
       "{0, 1, 2, 3, 4, 5, 6, 7, 8, 9}"
      ]
     },
     "execution_count": 16,
     "metadata": {},
     "output_type": "execute_result"
    }
   ],
   "source": [
    "set(y_train)"
   ]
  },
  {
   "cell_type": "code",
   "execution_count": 14,
   "metadata": {},
   "outputs": [],
   "source": [
    "X_train, X_test, y_train, y_test  = train_test_split(X, y, test_size=0.2)"
   ]
  },
  {
   "cell_type": "markdown",
   "metadata": {},
   "source": [
    "Training"
   ]
  },
  {
   "cell_type": "code",
   "execution_count": 17,
   "metadata": {},
   "outputs": [],
   "source": [
    "tree = RandomForestClassifier(nTrees=30, maxDepth=5, minSplitSize=50)\n",
    "tree.fit(X_train, y_train)"
   ]
  },
  {
   "cell_type": "markdown",
   "metadata": {},
   "source": [
    "Prediction"
   ]
  },
  {
   "cell_type": "code",
   "execution_count": 18,
   "metadata": {},
   "outputs": [
    {
     "name": "stdout",
     "output_type": "stream",
     "text": [
      "Train accuracy: \n",
      "0.9526791927627001\n",
      "Test accuracy: \n",
      "0.9\n"
     ]
    }
   ],
   "source": [
    "print('Train accuracy: ')\n",
    "p = tree.predict(X_train, y_train)\n",
    "print('Test accuracy: ')\n",
    "p = tree.predict(X_test, y_test)"
   ]
  },
  {
   "cell_type": "markdown",
   "metadata": {},
   "source": [
    "Comparison with scikit-learn random forest classifier"
   ]
  },
  {
   "cell_type": "code",
   "execution_count": 29,
   "metadata": {},
   "outputs": [
    {
     "name": "stdout",
     "output_type": "stream",
     "text": [
      "Train accuracy: 0.953375086986778\n",
      "Test accuracy: 0.9166666666666666\n"
     ]
    }
   ],
   "source": [
    "cfl = ensemble.RandomForestClassifier(n_estimators=30,max_depth=5, min_samples_split=50)\n",
    "cfl.fit(X_train, y_train)\n",
    "print('Train accuracy: ' + str(sum(cfl.predict(X_train) == y_train) / len(X_train)))\n",
    "print('Test accuracy: ' + str(sum(cfl.predict(X_test) == y_test) / len(X_test)))"
   ]
  }
 ],
 "metadata": {
  "kernelspec": {
   "display_name": "Python 3",
   "language": "python",
   "name": "python3"
  },
  "language_info": {
   "codemirror_mode": {
    "name": "ipython",
    "version": 3
   },
   "file_extension": ".py",
   "mimetype": "text/x-python",
   "name": "python",
   "nbconvert_exporter": "python",
   "pygments_lexer": "ipython3",
   "version": "3.7.0"
  }
 },
 "nbformat": 4,
 "nbformat_minor": 2
}
